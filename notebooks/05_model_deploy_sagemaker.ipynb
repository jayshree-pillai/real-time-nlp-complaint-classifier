{
 "cells": [
  {
   "cell_type": "markdown",
   "id": "0da31f8e-6dab-41c8-a742-4313d83fb7a6",
   "metadata": {},
   "source": [
    "**** Purpose: Deployment to endpoint"
   ]
  },
  {
   "cell_type": "code",
   "execution_count": 18,
   "id": "6f0a05ff-3492-4440-aed1-f8bca408d191",
   "metadata": {},
   "outputs": [],
   "source": [
    "#Step0 Directory setups:\n",
    "#!mkdir -p code\n",
    "#!mv inference.py code/\n",
    "#!rm -r bert\n",
    "!rm -rf code/.ipynb_checkpoints\n"
   ]
  },
  {
   "cell_type": "code",
   "execution_count": 14,
   "id": "f9da8489-c57d-4626-af9a-de7ff7cc9337",
   "metadata": {},
   "outputs": [],
   "source": [
    "from transformers import DistilBertTokenizer, DistilBertModel\n",
    "\n",
    "DistilBertTokenizer.from_pretrained(\"distilbert-base-uncased\").save_pretrained(\"./bert\")\n",
    "DistilBertModel.from_pretrained(\"distilbert-base-uncased\").save_pretrained(\"./bert\")\n"
   ]
  },
  {
   "cell_type": "code",
   "execution_count": 17,
   "id": "759014bf-724b-4e1d-bbb0-b458e2e9afe1",
   "metadata": {},
   "outputs": [
    {
     "name": "stdout",
     "output_type": "stream",
     "text": [
      "logreg_model.joblib\n",
      "label_encoder.joblib\n",
      "bert/\n",
      "bert/special_tokens_map.json\n",
      "bert/vocab.txt\n",
      "bert/tokenizer_config.json\n",
      "bert/model.safetensors\n",
      "bert/config.json\n",
      "code/\n",
      "code/inference.py\n"
     ]
    }
   ],
   "source": [
    "#Step 1: Create new tar.gz with code/ included\n",
    "!tar -czvf model.tar.gz logreg_model.joblib label_encoder.joblib bert code/\n"
   ]
  },
  {
   "cell_type": "code",
   "execution_count": 27,
   "id": "c250875d-3b2b-4f3a-be17-a754bd7ea48a",
   "metadata": {},
   "outputs": [
    {
     "name": "stdout",
     "output_type": "stream",
     "text": [
      "-rw-rw-r-- ec2-user/ec2-user 31647 2025-07-13 03:29 logreg_model.joblib\n",
      "-rw-rw-r-- ec2-user/ec2-user   707 2025-07-13 03:21 label_encoder.joblib\n",
      "drwxrwxr-x ec2-user/ec2-user     0 2025-07-13 17:38 bert/\n",
      "-rw-rw-r-- ec2-user/ec2-user   125 2025-07-13 17:38 bert/special_tokens_map.json\n",
      "-rw-rw-r-- ec2-user/ec2-user 231508 2025-07-13 17:38 bert/vocab.txt\n",
      "-rw-rw-r-- ec2-user/ec2-user   1278 2025-07-13 17:38 bert/tokenizer_config.json\n",
      "-rw-rw-r-- ec2-user/ec2-user 265462608 2025-07-13 17:38 bert/model.safetensors\n",
      "-rw-rw-r-- ec2-user/ec2-user       500 2025-07-13 17:38 bert/config.json\n",
      "drwxrwxr-x ec2-user/ec2-user         0 2025-07-13 17:40 code/\n",
      "-rw-rw-r-- ec2-user/ec2-user      1658 2025-07-13 17:39 code/inference.py\n"
     ]
    }
   ],
   "source": [
    "!tar -tzvf model.tar.gz"
   ]
  },
  {
   "cell_type": "code",
   "execution_count": 20,
   "id": "a917d6ea-dab5-497c-b26c-c829153aa965",
   "metadata": {},
   "outputs": [],
   "source": [
    "from sagemaker.sklearn.model import SKLearnModel\n",
    "from sagemaker import get_execution_role\n",
    "import sagemaker"
   ]
  },
  {
   "cell_type": "code",
   "execution_count": 21,
   "id": "57c69895-e2e9-4d5a-b934-b07c525f2919",
   "metadata": {},
   "outputs": [],
   "source": [
    "role = get_execution_role()\n",
    "sagemaker_session = sagemaker.Session()"
   ]
  },
  {
   "cell_type": "code",
   "execution_count": 22,
   "id": "23f0426b-951d-4327-8eec-d7ccb8bf8fa2",
   "metadata": {},
   "outputs": [],
   "source": [
    "#STEP 2: Upload tar to S3\n",
    "import boto3\n",
    "\n",
    "s3 = boto3.client('s3')\n",
    "s3.upload_file(\n",
    "    Filename='model.tar.gz',\n",
    "    Bucket='complaint-classifier-jp2025',\n",
    "    Key='models/model.tar.gz'\n",
    ")\n"
   ]
  },
  {
   "cell_type": "code",
   "execution_count": 28,
   "id": "b36370fe-132b-402b-a190-cd06192a7851",
   "metadata": {},
   "outputs": [
    {
     "name": "stdout",
     "output_type": "stream",
     "text": [
      "------!"
     ]
    }
   ],
   "source": [
    "#Step 3: Deploy using Model()\n",
    "from sagemaker.model import Model\n",
    "\n",
    "image_uri = '763104351884.dkr.ecr.us-east-1.amazonaws.com/huggingface-pytorch-inference:1.13.1-transformers4.26.0-cpu-py39-ubuntu20.04'\n",
    "\n",
    "model = Model(\n",
    "    image_uri=image_uri,\n",
    "    model_data=\"s3://complaint-classifier-jp2025/models/model.tar.gz\",  # must contain joblib, bert/, code/\n",
    "    role=role,\n",
    "    entry_point=\"inference.py\",\n",
    "    source_dir=\"code\",\n",
    "    sagemaker_session=sagemaker_session,\n",
    "    env={\n",
    "        \"SAGEMAKER_PROGRAM\": \"inference.py\"\n",
    "    }\n",
    ")\n",
    "\n",
    "\n",
    "predictor = model.deploy(\n",
    "    instance_type='ml.m5.large',\n",
    "    initial_instance_count=1,\n",
    "    endpoint_name='complaint-logreg-bert-endpoint'\n",
    ")\n"
   ]
  },
  {
   "cell_type": "code",
   "execution_count": 29,
   "id": "d98fc711-561a-4d51-8978-d9a56b7d49c6",
   "metadata": {},
   "outputs": [
    {
     "name": "stdout",
     "output_type": "stream",
     "text": [
      "None\n"
     ]
    }
   ],
   "source": [
    "print(predictor)"
   ]
  },
  {
   "cell_type": "code",
   "execution_count": 32,
   "id": "e2cccb60-310b-4b3b-a806-343fbd5acc35",
   "metadata": {
    "scrolled": true
   },
   "outputs": [
    {
     "name": "stdout",
     "output_type": "stream",
     "text": [
      "b'{\"label\": \"mortgages_and_loans\", \"confidence\": 0.9758066608688755}'\n"
     ]
    }
   ],
   "source": [
    "from sagemaker.predictor import Predictor\n",
    "from sagemaker.serializers import JSONSerializer\n",
    "\n",
    "predictor = Predictor(\n",
    "    endpoint_name=\"complaint-logreg-bert-endpoint\",\n",
    "    serializer=JSONSerializer()\n",
    ")\n",
    "\n",
    "payload = {\"text\": \"I was charged extra interest after my loan was closed.\"}\n",
    "response = predictor.predict(payload)\n",
    "print(response)\n"
   ]
  },
  {
   "cell_type": "code",
   "execution_count": 33,
   "id": "862324c6-4e65-434e-9f43-c1918c1778b2",
   "metadata": {},
   "outputs": [],
   "source": [
    "#predictor.delete_endpoint()"
   ]
  }
 ],
 "metadata": {
  "kernelspec": {
   "display_name": "conda_python3",
   "language": "python",
   "name": "conda_python3"
  },
  "language_info": {
   "codemirror_mode": {
    "name": "ipython",
    "version": 3
   },
   "file_extension": ".py",
   "mimetype": "text/x-python",
   "name": "python",
   "nbconvert_exporter": "python",
   "pygments_lexer": "ipython3",
   "version": "3.10.18"
  }
 },
 "nbformat": 4,
 "nbformat_minor": 5
}
