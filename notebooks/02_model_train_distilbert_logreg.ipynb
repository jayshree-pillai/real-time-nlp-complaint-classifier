{
 "cells": [
  {
   "cell_type": "code",
   "execution_count": null,
   "id": "d2f713bd-c62e-4d1a-85b0-32f09e24e731",
   "metadata": {},
   "outputs": [],
   "source": [
    "# LABEL ENCODING + Model Training\n",
    "import numpy as np\n",
    "import pandas as pd\n",
    "from sklearn.preprocessing import LabelEncoder\n",
    "from sklearn.linear_model import LogisticRegression\n",
    "from sklearn.metrics import classification_report\n",
    "import joblib\n",
    "\n",
    "\n",
    "df = pd.read_csv(\"downloads/complaints_train.csv\")\n",
    "texts = df[\"narrative\"].dropna().astype(str).tolist()\n",
    "\n",
    "valid_idx = df[\"narrative\"].dropna().index\n",
    "labels = df.loc[valid_idx, \"product\"].astype(str).tolist()\n",
    "le = LabelEncoder()\n",
    "y_encoded = le.fit_transform(labels)\n",
    "\n",
    "# Save label encoder\n",
    "joblib.dump(le, 'label_encoder.joblib')\n",
    "\n",
    "len(texts) == len(y_encoded)\n",
    "\n"
   ]
  },
  {
   "cell_type": "code",
   "execution_count": null,
   "id": "b9152802-1c81-4a40-8290-6cd9f72af2c3",
   "metadata": {},
   "outputs": [],
   "source": [
    "# Load features\n",
    "X = np.load('X_train_full.npy')\n",
    "assert X.shape[0] == len(y_encoded), \"Mismatch in features and labels\""
   ]
  },
  {
   "cell_type": "code",
   "execution_count": null,
   "id": "8370ad5d-6714-43c2-bd12-d0cfd8d3871a",
   "metadata": {},
   "outputs": [],
   "source": [
    "# Train model\n",
    "clf = LogisticRegression(solver='lbfgs', max_iter=1000, random_state=42)\n",
    "clf.fit(X, y_encoded)\n",
    "\n",
    "# Save model\n",
    "joblib.dump(clf, 'logreg_model.joblib')\n",
    "\n",
    "# Optional: quick check\n",
    "y_pred = clf.predict(X)\n",
    "print(classification_report(y_encoded, y_pred, target_names=le.classes_))"
   ]
  },
  {
   "cell_type": "markdown",
   "id": "10930471-6946-472b-b7b6-44e65362cbcb",
   "metadata": {},
   "source": [
    "####  Model trained on 129,927 samples with weighted F1 score of 0.82.\n",
    "\n",
    "| Predicted ↓ / Actual → | Credit Card | Credit Reporting | Debt Collection | Mortgages & Loans | Retail Banking |\n",
    "| ---------------------- | ----------- | ---------------- | --------------- | ----------------- | -------------- |\n",
    "| **Credit Card**        | 8,332       | 2,131            | 1,107           | 420               | 462            |\n",
    "| **Credit Reporting**   | 1,337       | 66,938           | 3,145           | 1,208             | 1,309          |\n",
    "| **Debt Collection**    | 1,278       | 3,067            | 11,522          | 854               | 1,797          |\n",
    "| **Mortgages & Loans**  | 323         | 765              | 645             | 11,681            | 1,778          |\n",
    "| **Retail Banking**     | 1,182       | 1,036            | 2,099           | 1,029             | 8,482          |\n"
   ]
  },
  {
   "cell_type": "markdown",
   "id": "89bdaead-6a9b-490c-8c4c-10d442b0972a",
   "metadata": {},
   "source": [
    "#### Classification Report\n",
    "\n",
    "| Class                | Precision | Recall | F1-Score | Support |\n",
    "|----------------------|-----------|--------|----------|---------|\n",
    "| Credit Card          | 0.72      | 0.67   | 0.69     | 12,452  |\n",
    "| Credit Reporting     | 0.87      | 0.92   | 0.89     | 72,937  |\n",
    "| Debt Collection      | 0.74      | 0.62   | 0.67     | 18,518  |\n",
    "| Mortgages & Loans    | 0.79      | 0.77   | 0.78     | 15,192  |\n",
    "| Retail Banking       | 0.79      | 0.79   | 0.79     | 10,828  |\n",
    "\n",
    "| Metric              | Value  |\n",
    "|---------------------|--------|\n",
    "| Accuracy            | 0.82   |\n",
    "| Macro Avg F1        | 0.77   |\n",
    "| Weighted Avg F1     | 0.82   |\n",
    "\n",
    "*Trained on 129,927 complaints without validation split.*\n",
    "\n"
   ]
  },
  {
   "cell_type": "code",
   "execution_count": null,
   "id": "c031c8aa-57e5-4702-a18c-69aec452cfed",
   "metadata": {},
   "outputs": [],
   "source": []
  }
 ],
 "metadata": {
  "kernelspec": {
   "display_name": "conda_python3",
   "language": "python",
   "name": "conda_python3"
  },
  "language_info": {
   "codemirror_mode": {
    "name": "ipython",
    "version": 3
   },
   "file_extension": ".py",
   "mimetype": "text/x-python",
   "name": "python",
   "nbconvert_exporter": "python",
   "pygments_lexer": "ipython3",
   "version": "3.10.18"
  }
 },
 "nbformat": 4,
 "nbformat_minor": 5
}
