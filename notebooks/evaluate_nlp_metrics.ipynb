{
 "cells": [
  {
   "cell_type": "code",
   "execution_count": 2,
   "id": "bafbab35-ee6d-47cf-a6af-c7bc68dd5f38",
   "metadata": {},
   "outputs": [],
   "source": [
    "!pip install torch --quiet\n",
    "!pip install transformers --quiet"
   ]
  },
  {
   "cell_type": "code",
   "execution_count": 3,
   "id": "69b95c54-24d5-495f-a818-97043c494549",
   "metadata": {},
   "outputs": [
    {
     "name": "stderr",
     "output_type": "stream",
     "text": [
      "/home/ec2-user/anaconda3/envs/python3/lib/python3.10/site-packages/pandas/core/computation/expressions.py:21: UserWarning: Pandas requires version '2.8.4' or newer of 'numexpr' (version '2.7.3' currently installed).\n",
      "  from pandas.core.computation.check import NUMEXPR_INSTALLED\n"
     ]
    },
    {
     "data": {
      "application/vnd.jupyter.widget-view+json": {
       "model_id": "c5c626c901cd41dda62044161d2789d5",
       "version_major": 2,
       "version_minor": 0
      },
      "text/plain": [
       "tokenizer_config.json:   0%|          | 0.00/48.0 [00:00<?, ?B/s]"
      ]
     },
     "metadata": {},
     "output_type": "display_data"
    },
    {
     "data": {
      "application/vnd.jupyter.widget-view+json": {
       "model_id": "9ca942af96cb4ccd8d02cd90aeb80bc7",
       "version_major": 2,
       "version_minor": 0
      },
      "text/plain": [
       "vocab.txt:   0%|          | 0.00/232k [00:00<?, ?B/s]"
      ]
     },
     "metadata": {},
     "output_type": "display_data"
    },
    {
     "data": {
      "application/vnd.jupyter.widget-view+json": {
       "model_id": "3d93777deb284ed2a00bfddae3c4162c",
       "version_major": 2,
       "version_minor": 0
      },
      "text/plain": [
       "tokenizer.json:   0%|          | 0.00/466k [00:00<?, ?B/s]"
      ]
     },
     "metadata": {},
     "output_type": "display_data"
    },
    {
     "data": {
      "application/vnd.jupyter.widget-view+json": {
       "model_id": "165b0a152c59428fbb6a1aababc08744",
       "version_major": 2,
       "version_minor": 0
      },
      "text/plain": [
       "config.json:   0%|          | 0.00/483 [00:00<?, ?B/s]"
      ]
     },
     "metadata": {},
     "output_type": "display_data"
    },
    {
     "data": {
      "application/vnd.jupyter.widget-view+json": {
       "model_id": "05369ca8a98645139ab4822e8e7b256d",
       "version_major": 2,
       "version_minor": 0
      },
      "text/plain": [
       "model.safetensors:   0%|          | 0.00/268M [00:00<?, ?B/s]"
      ]
     },
     "metadata": {},
     "output_type": "display_data"
    },
    {
     "data": {
      "text/plain": [
       "DistilBertModel(\n",
       "  (embeddings): Embeddings(\n",
       "    (word_embeddings): Embedding(30522, 768, padding_idx=0)\n",
       "    (position_embeddings): Embedding(512, 768)\n",
       "    (LayerNorm): LayerNorm((768,), eps=1e-12, elementwise_affine=True)\n",
       "    (dropout): Dropout(p=0.1, inplace=False)\n",
       "  )\n",
       "  (transformer): Transformer(\n",
       "    (layer): ModuleList(\n",
       "      (0-5): 6 x TransformerBlock(\n",
       "        (attention): DistilBertSdpaAttention(\n",
       "          (dropout): Dropout(p=0.1, inplace=False)\n",
       "          (q_lin): Linear(in_features=768, out_features=768, bias=True)\n",
       "          (k_lin): Linear(in_features=768, out_features=768, bias=True)\n",
       "          (v_lin): Linear(in_features=768, out_features=768, bias=True)\n",
       "          (out_lin): Linear(in_features=768, out_features=768, bias=True)\n",
       "        )\n",
       "        (sa_layer_norm): LayerNorm((768,), eps=1e-12, elementwise_affine=True)\n",
       "        (ffn): FFN(\n",
       "          (dropout): Dropout(p=0.1, inplace=False)\n",
       "          (lin1): Linear(in_features=768, out_features=3072, bias=True)\n",
       "          (lin2): Linear(in_features=3072, out_features=768, bias=True)\n",
       "          (activation): GELUActivation()\n",
       "        )\n",
       "        (output_layer_norm): LayerNorm((768,), eps=1e-12, elementwise_affine=True)\n",
       "      )\n",
       "    )\n",
       "  )\n",
       ")"
      ]
     },
     "execution_count": 3,
     "metadata": {},
     "output_type": "execute_result"
    }
   ],
   "source": [
    "# Step 1 — Load base DistilBERT feature extractor\n",
    "\n",
    "from transformers import DistilBertTokenizer, DistilBertModel\n",
    "import torch\n",
    "\n",
    "device = torch.device(\"cuda\" if torch.cuda.is_available() else \"cpu\")\n",
    "\n",
    "# Load tokenizer + base encoder\n",
    "tokenizer = DistilBertTokenizer.from_pretrained(\"distilbert-base-uncased\")\n",
    "bert = DistilBertModel.from_pretrained(\"distilbert-base-uncased\")\n",
    "bert.to(device)\n",
    "bert.eval()\n"
   ]
  },
  {
   "cell_type": "code",
   "execution_count": 4,
   "id": "93d1da62-37f7-410d-b886-aa45ba0e7e1e",
   "metadata": {},
   "outputs": [],
   "source": [
    "# Step 2 — Load classifier and label encoder\n",
    "import joblib\n",
    "\n",
    "clf = joblib.load(\"logreg_model.joblib\")\n",
    "le = joblib.load(\"label_encoder.joblib\")\n",
    "\n"
   ]
  },
  {
   "cell_type": "code",
   "execution_count": 5,
   "id": "c305e5d9-eda9-425c-a504-99c36dd3ee15",
   "metadata": {},
   "outputs": [],
   "source": [
    "#Step 3 — Define predict(text) function\n",
    "def predict(text):\n",
    "    # Tokenize\n",
    "    inputs = tokenizer(text, return_tensors=\"pt\", truncation=True, padding=True).to(device)\n",
    "\n",
    "    # BERT embedding\n",
    "    with torch.no_grad():\n",
    "        outputs = bert(**inputs)\n",
    "        pooled = outputs.last_hidden_state.mean(dim=1).cpu().numpy()  # Mean pooling\n",
    "\n",
    "    # Predict\n",
    "    pred_idx = clf.predict(pooled)[0]\n",
    "    confidence = clf.predict_proba(pooled).max()\n",
    "    label = le.inverse_transform([pred_idx])[0]\n",
    "\n",
    "    return pred_idx,label, confidence\n"
   ]
  },
  {
   "cell_type": "code",
   "execution_count": 7,
   "id": "99e22ffc-3e89-4b1c-8795-1201f464d9e4",
   "metadata": {},
   "outputs": [
    {
     "name": "stdout",
     "output_type": "stream",
     "text": [
      "<class 'pandas.core.frame.DataFrame'>\n",
      "RangeIndex: 32485 entries, 0 to 32484\n",
      "Data columns (total 3 columns):\n",
      " #   Column      Non-Null Count  Dtype \n",
      "---  ------      --------------  ----- \n",
      " 0   Unnamed: 0  32485 non-null  int64 \n",
      " 1   product     32485 non-null  object\n",
      " 2   narrative   32484 non-null  object\n",
      "dtypes: int64(1), object(2)\n",
      "memory usage: 761.5+ KB\n"
     ]
    }
   ],
   "source": [
    "df.info()"
   ]
  },
  {
   "cell_type": "code",
   "execution_count": 8,
   "id": "ea86d314-8a89-4998-88a2-810267a01932",
   "metadata": {},
   "outputs": [
    {
     "name": "stdout",
     "output_type": "stream",
     "text": [
      "\n",
      "--- NLP Model Evaluation ---\n",
      "Precision: 0.45114463030743124\n",
      "Recall: 0.5217442597603732\n",
      "F1 Score: 0.40755532361446944\n",
      "\n",
      "                      precision    recall  f1-score   support\n",
      "\n",
      "        credit_card       0.29      0.41      0.34      3114\n",
      "   credit_reporting       0.93      0.31      0.47     18235\n",
      "    debt_collection       0.54      0.45      0.49      4630\n",
      "mortgages_and_loans       0.24      0.58      0.34      3798\n",
      "     retail_banking       0.26      0.85      0.40      2707\n",
      "\n",
      "           accuracy                           0.42     32484\n",
      "          macro avg       0.45      0.52      0.41     32484\n",
      "       weighted avg       0.67      0.42      0.44     32484\n",
      "\n"
     ]
    }
   ],
   "source": [
    "#Step 4 — Test on sample complaints\n",
    "import pandas as pd\n",
    "from sklearn.metrics import classification_report, precision_score, recall_score, f1_score\n",
    "\n",
    "df = pd.read_csv(\"downloads/complaints_test.csv\")\n",
    "df_clean = df[[\"narrative\", \"product\"]].dropna().astype(str)\n",
    "texts = df_clean[\"narrative\"].tolist()\n",
    "y_true = le.transform(df_clean[\"product\"].tolist())\n",
    "y_pred = []\n",
    "\n",
    "for i, text in enumerate(texts):\n",
    "    pred_idx,label, conf = predict(text)\n",
    "    y_pred.append(pred_idx)\n",
    "    #print(f\"[{i+1}] → {label} (confidence: {conf:.2f})\")\n",
    "\n",
    "# 🔥 Step 3: Print metrics\n",
    "print(\"\\n--- NLP Model Evaluation ---\")\n",
    "print(\"Precision:\", precision_score(y_true, y_pred, average=\"macro\"))\n",
    "print(\"Recall:\", recall_score(y_true, y_pred, average=\"macro\"))\n",
    "print(\"F1 Score:\", f1_score(y_true, y_pred, average=\"macro\"))\n",
    "print(\"\\n\", classification_report(y_true, y_pred, target_names=le.classes_))"
   ]
  },
  {
   "cell_type": "code",
   "execution_count": 10,
   "id": "16e92791-7202-484e-89bc-2b69e00c78dc",
   "metadata": {},
   "outputs": [
    {
     "name": "stdout",
     "output_type": "stream",
     "text": [
      "Avg Inference Latency per Tx: 0.008812 sec\n"
     ]
    }
   ],
   "source": [
    "import time\n",
    "\n",
    "start = time.time()\n",
    "for text in texts:\n",
    "    _ = predict(text)  # ignore results, just time it\n",
    "end = time.time()\n",
    "\n",
    "latency_per_tx = (end - start) / len(texts)\n",
    "print(f\"Avg Inference Latency per Tx: {latency_per_tx:.6f} sec\")\n"
   ]
  }
 ],
 "metadata": {
  "kernelspec": {
   "display_name": "conda_python3",
   "language": "python",
   "name": "conda_python3"
  },
  "language_info": {
   "codemirror_mode": {
    "name": "ipython",
    "version": 3
   },
   "file_extension": ".py",
   "mimetype": "text/x-python",
   "name": "python",
   "nbconvert_exporter": "python",
   "pygments_lexer": "ipython3",
   "version": "3.10.18"
  }
 },
 "nbformat": 4,
 "nbformat_minor": 5
}
